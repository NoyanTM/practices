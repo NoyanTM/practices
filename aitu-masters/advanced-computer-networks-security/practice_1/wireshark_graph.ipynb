{
 "cells": [
  {
   "cell_type": "code",
   "execution_count": 2,
   "id": "a417815f-d2dc-4635-994e-5fb6c880ea49",
   "metadata": {},
   "outputs": [],
   "source": [
    "from pathlib import Path\n",
    "\n",
    "import networkx as nx\n",
    "import pyshark"
   ]
  },
  {
   "cell_type": "code",
   "execution_count": 8,
   "id": "e6ed8014-bc71-4554-b6a3-1a4d07867e4f",
   "metadata": {},
   "outputs": [],
   "source": [
    "packets = pyshark.FileCapture(\"./local_data/wirehark-capture_2025-09-10.pcapng\")"
   ]
  },
  {
   "cell_type": "code",
   "execution_count": 6,
   "id": "d0404236-8c92-4667-834d-1081174783b2",
   "metadata": {},
   "outputs": [
    {
     "data": {
      "text/plain": [
       "['DEFAULT_LOG_LEVEL',\n",
       " 'SUMMARIES_BATCH_SIZE',\n",
       " 'SUPPORTED_ENCRYPTION_STANDARDS',\n",
       " '_Capture__tshark_version',\n",
       " '__aenter__',\n",
       " '__aexit__',\n",
       " '__class__',\n",
       " '__del__',\n",
       " '__delattr__',\n",
       " '__dict__',\n",
       " '__dir__',\n",
       " '__doc__',\n",
       " '__enter__',\n",
       " '__eq__',\n",
       " '__exit__',\n",
       " '__firstlineno__',\n",
       " '__format__',\n",
       " '__ge__',\n",
       " '__getattribute__',\n",
       " '__getitem__',\n",
       " '__getstate__',\n",
       " '__gt__',\n",
       " '__hash__',\n",
       " '__init__',\n",
       " '__init_subclass__',\n",
       " '__iter__',\n",
       " '__le__',\n",
       " '__len__',\n",
       " '__lt__',\n",
       " '__module__',\n",
       " '__ne__',\n",
       " '__new__',\n",
       " '__reduce__',\n",
       " '__reduce_ex__',\n",
       " '__repr__',\n",
       " '__setattr__',\n",
       " '__sizeof__',\n",
       " '__static_attributes__',\n",
       " '__str__',\n",
       " '__subclasshook__',\n",
       " '__weakref__',\n",
       " '_capture_filter',\n",
       " '_cleanup_subprocess',\n",
       " '_closed',\n",
       " '_create_stderr_handling_task',\n",
       " '_created_new_process',\n",
       " '_current_packet',\n",
       " '_custom_parameters',\n",
       " '_decode_as',\n",
       " '_disable_protocol',\n",
       " '_display_filter',\n",
       " '_eof_reached',\n",
       " '_get_tshark_path',\n",
       " '_get_tshark_process',\n",
       " '_get_tshark_version',\n",
       " '_go_through_packets_from_fd',\n",
       " '_handle_process_stderr_forever',\n",
       " '_last_error_line',\n",
       " '_log',\n",
       " '_only_summaries',\n",
       " '_output_file',\n",
       " '_override_prefs',\n",
       " '_packet_generator',\n",
       " '_packets',\n",
       " '_packets_from_tshark_sync',\n",
       " '_running_processes',\n",
       " '_setup_eventloop',\n",
       " '_setup_tshark_output_parser',\n",
       " '_stderr_handling_tasks',\n",
       " '_use_ek',\n",
       " '_verify_capture_parameters',\n",
       " 'apply_on_packets',\n",
       " 'clear',\n",
       " 'close',\n",
       " 'close_async',\n",
       " 'debug',\n",
       " 'encryption',\n",
       " 'eventloop',\n",
       " 'get_parameters',\n",
       " 'include_raw',\n",
       " 'input_filepath',\n",
       " 'keep_packets',\n",
       " 'load_packets',\n",
       " 'loaded',\n",
       " 'next',\n",
       " 'next_packet',\n",
       " 'packets_from_tshark',\n",
       " 'reset',\n",
       " 'set_debug',\n",
       " 'tshark_path',\n",
       " 'use_json']"
      ]
     },
     "execution_count": 6,
     "metadata": {},
     "output_type": "execute_result"
    }
   ],
   "source": [
    "dir(packets)"
   ]
  },
  {
   "cell_type": "code",
   "execution_count": 11,
   "id": "3fd646fc-c52e-48b6-ad09-3ebfb3a86cb7",
   "metadata": {},
   "outputs": [
    {
     "name": "stderr",
     "output_type": "stream",
     "text": [
      "/home/noyan/Desktop/projects/practices/aitu-masters/advanced-computer-networks-security/practice_1/.venv/lib/python3.13/site-packages/stack_data/utils.py:66: RuntimeWarning: coroutine 'Capture._get_tshark_process' was never awaited\n",
      "  highlighted = itertools.repeat(True)\n",
      "RuntimeWarning: Enable tracemalloc to get the object allocation traceback\n"
     ]
    },
    {
     "ename": "RuntimeError",
     "evalue": "This event loop is already running",
     "output_type": "error",
     "traceback": [
      "\u001b[31m---------------------------------------------------------------------------\u001b[39m",
      "\u001b[31mRuntimeError\u001b[39m                              Traceback (most recent call last)",
      "\u001b[36mCell\u001b[39m\u001b[36m \u001b[39m\u001b[32mIn[11]\u001b[39m\u001b[32m, line 1\u001b[39m\n\u001b[32m----> \u001b[39m\u001b[32m1\u001b[39m \u001b[38;5;28;43;01mfor\u001b[39;49;00m\u001b[43m \u001b[49m\u001b[43mpacket\u001b[49m\u001b[43m \u001b[49m\u001b[38;5;129;43;01min\u001b[39;49;00m\u001b[43m \u001b[49m\u001b[43mpackets\u001b[49m\u001b[43m:\u001b[49m\n\u001b[32m      2\u001b[39m \u001b[43m    \u001b[49m\u001b[38;5;28;43mprint\u001b[39;49m\u001b[43m(\u001b[49m\u001b[43mpacket\u001b[49m\u001b[43m)\u001b[49m\n",
      "\u001b[36mFile \u001b[39m\u001b[32m~/Desktop/projects/practices/aitu-masters/advanced-computer-networks-security/practice_1/.venv/lib/python3.13/site-packages/pyshark/capture/capture.py:212\u001b[39m, in \u001b[36mCapture._packets_from_tshark_sync\u001b[39m\u001b[34m(self, packet_count, existing_process)\u001b[39m\n\u001b[32m    204\u001b[39m \u001b[38;5;250m\u001b[39m\u001b[33;03m\"\"\"Returns a generator of packets.\u001b[39;00m\n\u001b[32m    205\u001b[39m \n\u001b[32m    206\u001b[39m \u001b[33;03mThis is the sync version of packets_from_tshark. It wait for the completion of each coroutine and\u001b[39;00m\n\u001b[32m   (...)\u001b[39m\u001b[32m    209\u001b[39m \u001b[33;03m:param packet_count: If given, stops after this amount of packets is captured.\u001b[39;00m\n\u001b[32m    210\u001b[39m \u001b[33;03m\"\"\"\u001b[39;00m\n\u001b[32m    211\u001b[39m \u001b[38;5;66;03m# NOTE: This has code duplication with the async version, think about how to solve this\u001b[39;00m\n\u001b[32m--> \u001b[39m\u001b[32m212\u001b[39m tshark_process = existing_process \u001b[38;5;129;01mor\u001b[39;00m \u001b[38;5;28;43mself\u001b[39;49m\u001b[43m.\u001b[49m\u001b[43meventloop\u001b[49m\u001b[43m.\u001b[49m\u001b[43mrun_until_complete\u001b[49m\u001b[43m(\u001b[49m\n\u001b[32m    213\u001b[39m \u001b[43m    \u001b[49m\u001b[38;5;28;43mself\u001b[39;49m\u001b[43m.\u001b[49m\u001b[43m_get_tshark_process\u001b[49m\u001b[43m(\u001b[49m\u001b[43m)\u001b[49m\u001b[43m)\u001b[49m\n\u001b[32m    214\u001b[39m parser = \u001b[38;5;28mself\u001b[39m._setup_tshark_output_parser()\n\u001b[32m    215\u001b[39m packets_captured = \u001b[32m0\u001b[39m\n",
      "\u001b[36mFile \u001b[39m\u001b[32m/usr/lib/python3.13/asyncio/base_events.py:701\u001b[39m, in \u001b[36mBaseEventLoop.run_until_complete\u001b[39m\u001b[34m(self, future)\u001b[39m\n\u001b[32m    690\u001b[39m \u001b[38;5;250m\u001b[39m\u001b[33;03m\"\"\"Run until the Future is done.\u001b[39;00m\n\u001b[32m    691\u001b[39m \n\u001b[32m    692\u001b[39m \u001b[33;03mIf the argument is a coroutine, it is wrapped in a Task.\u001b[39;00m\n\u001b[32m   (...)\u001b[39m\u001b[32m    698\u001b[39m \u001b[33;03mReturn the Future's result, or raise its exception.\u001b[39;00m\n\u001b[32m    699\u001b[39m \u001b[33;03m\"\"\"\u001b[39;00m\n\u001b[32m    700\u001b[39m \u001b[38;5;28mself\u001b[39m._check_closed()\n\u001b[32m--> \u001b[39m\u001b[32m701\u001b[39m \u001b[38;5;28;43mself\u001b[39;49m\u001b[43m.\u001b[49m\u001b[43m_check_running\u001b[49m\u001b[43m(\u001b[49m\u001b[43m)\u001b[49m\n\u001b[32m    703\u001b[39m new_task = \u001b[38;5;129;01mnot\u001b[39;00m futures.isfuture(future)\n\u001b[32m    704\u001b[39m future = tasks.ensure_future(future, loop=\u001b[38;5;28mself\u001b[39m)\n",
      "\u001b[36mFile \u001b[39m\u001b[32m/usr/lib/python3.13/asyncio/base_events.py:637\u001b[39m, in \u001b[36mBaseEventLoop._check_running\u001b[39m\u001b[34m(self)\u001b[39m\n\u001b[32m    635\u001b[39m \u001b[38;5;28;01mdef\u001b[39;00m\u001b[38;5;250m \u001b[39m\u001b[34m_check_running\u001b[39m(\u001b[38;5;28mself\u001b[39m):\n\u001b[32m    636\u001b[39m     \u001b[38;5;28;01mif\u001b[39;00m \u001b[38;5;28mself\u001b[39m.is_running():\n\u001b[32m--> \u001b[39m\u001b[32m637\u001b[39m         \u001b[38;5;28;01mraise\u001b[39;00m \u001b[38;5;167;01mRuntimeError\u001b[39;00m(\u001b[33m'\u001b[39m\u001b[33mThis event loop is already running\u001b[39m\u001b[33m'\u001b[39m)\n\u001b[32m    638\u001b[39m     \u001b[38;5;28;01mif\u001b[39;00m events._get_running_loop() \u001b[38;5;129;01mis\u001b[39;00m \u001b[38;5;129;01mnot\u001b[39;00m \u001b[38;5;28;01mNone\u001b[39;00m:\n\u001b[32m    639\u001b[39m         \u001b[38;5;28;01mraise\u001b[39;00m \u001b[38;5;167;01mRuntimeError\u001b[39;00m(\n\u001b[32m    640\u001b[39m             \u001b[33m'\u001b[39m\u001b[33mCannot run the event loop while another loop is running\u001b[39m\u001b[33m'\u001b[39m)\n",
      "\u001b[31mRuntimeError\u001b[39m: This event loop is already running"
     ]
    }
   ],
   "source": [
    "for packet in packets:\n",
    "    print(packet)"
   ]
  },
  {
   "cell_type": "code",
   "execution_count": null,
   "id": "aef6b015-198a-4b5c-a0e9-cd19d5e25b97",
   "metadata": {},
   "outputs": [],
   "source": []
  }
 ],
 "metadata": {
  "kernelspec": {
   "display_name": "Python 3 (ipykernel)",
   "language": "python",
   "name": "python3"
  },
  "language_info": {
   "codemirror_mode": {
    "name": "ipython",
    "version": 3
   },
   "file_extension": ".py",
   "mimetype": "text/x-python",
   "name": "python",
   "nbconvert_exporter": "python",
   "pygments_lexer": "ipython3",
   "version": "3.13.5"
  }
 },
 "nbformat": 4,
 "nbformat_minor": 5
}
